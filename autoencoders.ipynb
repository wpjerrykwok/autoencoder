{
 "cells": [
  {
   "cell_type": "markdown",
   "metadata": {},
   "source": [
    "### Objective\n",
    "To store a set of images using a minimal amount of data."
   ]
  },
  {
   "cell_type": "markdown",
   "metadata": {},
   "source": [
    "### Data\n",
    "Obtained from Arabic Handwritten Digits Dataset | Kaggle (https://www.kaggle.com/datasets/mloey1/ahdd1), original source unknown."
   ]
  },
  {
   "cell_type": "markdown",
   "metadata": {},
   "source": [
    "### Problem Statement\n",
    "You are working with a team that is developing a mobile app for doing arithmetic by hand, in Arabic. The app will recognize digits in the user's handwriting as part of its functionality. In order to use a minimum amount of data, your job as a developer is to store each hand-drawn digit using as little memory as possible. Using a dataset of hand drawn Arabic digits, you will train an autoencoder to encode and decode these images."
   ]
  },
  {
   "cell_type": "markdown",
   "metadata": {},
   "source": [
    "### Arabic Digits\n",
    "Arabic digits correspond to Roman digits according to the table below (N.Das, A. Mollah, S. Saha, S. Haque, 2010, https://arxiv.org/abs/1003.1891):"
   ]
  },
  {
   "cell_type": "markdown",
   "metadata": {},
   "source": [
    "## 1. Data"
   ]
  },
  {
   "cell_type": "code",
   "execution_count": 1,
   "metadata": {},
   "outputs": [],
   "source": [
    "# import libraries\n",
    "import numpy as np\n",
    "import pandas as pd\n",
    "import matplotlib.pyplot as plt"
   ]
  },
  {
   "cell_type": "code",
   "execution_count": 2,
   "metadata": {},
   "outputs": [],
   "source": [
    "# import tensorflow libraries\n",
    "from tensorflow.keras.layers import Input, Reshape, Dense, Conv2D, MaxPooling2D, UpSampling2D, Flatten\n",
    "from tensorflow.keras.models import Model"
   ]
  },
  {
   "cell_type": "markdown",
   "metadata": {},
   "source": [
    "**a. Each row of *csvImages 10k x 784.csv* contains the gray scale values of a 28 x 28 image. Load this data into a pandas dataframe. Convert the dataframe to a numpy array using *pandas.values*. Print the shape of the data.**"
   ]
  },
  {
   "cell_type": "code",
   "execution_count": 4,
   "metadata": {},
   "outputs": [],
   "source": [
    "# load dataset\n",
    "digit_df = pd.read_csv('csvImages 10k x 784.csv', header=None)"
   ]
  },
  {
   "cell_type": "code",
   "execution_count": 5,
   "metadata": {},
   "outputs": [],
   "source": [
    "# convert dataframe to numpy array\n",
    "digits = digit_df.values"
   ]
  },
  {
   "cell_type": "code",
   "execution_count": 6,
   "metadata": {},
   "outputs": [
    {
     "data": {
      "text/plain": [
       "(10000, 784)"
      ]
     },
     "execution_count": 6,
     "metadata": {},
     "output_type": "execute_result"
    }
   ],
   "source": [
    "# print shape of data\n",
    "digits.shape"
   ]
  },
  {
   "cell_type": "markdown",
   "metadata": {},
   "source": [
    "**Discussion**\n",
    "1. There are 9999 images."
   ]
  },
  {
   "cell_type": "markdown",
   "metadata": {},
   "source": [
    "**b. Normalize by dividing each value by 255. In order to display the images, reshape the array so each image is 28 x 28 using *numpy.ndarray.reshape*. Use *matplotlib.plot.imshow* and *matplotlib.plot.subplot* to give a plot of the first five images using the 'gray' colour map. In order to put the data back in the original shape for input to the neural network, reshape each image to be 784 (one-dimensional).**"
   ]
  },
  {
   "cell_type": "code",
   "execution_count": 7,
   "metadata": {},
   "outputs": [
    {
     "data": {
      "text/plain": [
       "dtype('int64')"
      ]
     },
     "execution_count": 7,
     "metadata": {},
     "output_type": "execute_result"
    }
   ],
   "source": [
    "# print data type\n",
    "digits.dtype"
   ]
  },
  {
   "cell_type": "code",
   "execution_count": 8,
   "metadata": {},
   "outputs": [],
   "source": [
    "# normalize data by dividing by 255. and convert to float32\n",
    "digits = digits.astype('float32') / 255."
   ]
  },
  {
   "cell_type": "code",
   "execution_count": 9,
   "metadata": {},
   "outputs": [],
   "source": [
    "# reshape data for visualization\n",
    "digits = digits.reshape(-1, 28, 28)"
   ]
  },
  {
   "cell_type": "code",
   "execution_count": 10,
   "metadata": {},
   "outputs": [
    {
     "data": {
      "image/png": "[encoded data removed]",
      "text/plain": [
       "<Figure size 1000x700 with 5 Axes>"
      ]
     },
     "metadata": {},
     "output_type": "display_data"
    }
   ],
   "source": [
    "# display first 5 images\n",
    "plt.figure(figsize=(10, 7))\n",
    "for i in range(5):\n",
    "    # Plot the original images\n",
    "    plt.subplot(1, 5, i + 1)\n",
    "    plt.imshow(digits[i], cmap='gray')\n",
    "    plt.axis('off')"
   ]
  },
  {
   "cell_type": "code",
   "execution_count": 11,
   "metadata": {},
   "outputs": [],
   "source": [
    "# reshape data for autoencoder\n",
    "digits = digits.reshape(-1, 28**2)"
   ]
  },
  {
   "cell_type": "markdown",
   "metadata": {},
   "source": [
    "## 2. Modeling"
   ]
  },
  {
   "cell_type": "markdown",
   "metadata": {},
   "source": [
    "**a. Use *keras.layers* to create an input layer that matches the dimensions of your data.**"
   ]
  },
  {
   "cell_type": "code",
   "execution_count": 12,
   "metadata": {},
   "outputs": [
    {
     "data": {
      "text/plain": [
       "(10000, 784)"
      ]
     },
     "execution_count": 12,
     "metadata": {},
     "output_type": "execute_result"
    }
   ],
   "source": [
    "# display dimensions of data\n",
    "digits.shape"
   ]
  },
  {
   "cell_type": "code",
   "execution_count": 13,
   "metadata": {},
   "outputs": [],
   "source": [
    "# create the input layer that matches the dimension of the data\n",
    "input_layer = Input(shape=(784,))"
   ]
  },
  {
   "cell_type": "markdown",
   "metadata": {},
   "source": [
    "**b. Use *keras.layers* to create an encoding stage that has at least two layers and reduces the size of the data to 50% or less (less is better). You will need to choose activation functions.**"
   ]
  },
  {
   "cell_type": "markdown",
   "metadata": {},
   "source": [
    "## Model 1"
   ]
  },
  {
   "cell_type": "code",
   "execution_count": 14,
   "metadata": {},
   "outputs": [],
   "source": [
    "# create the encoding stage\n",
    "m1_enc1 = Reshape((28, 28, 1))(input_layer)\n",
    "m1_enc2 = Conv2D(8, (3, 3), activation='relu', padding='same')(m1_enc1)\n",
    "m1_enc3 = MaxPooling2D((2, 2), padding='same')(m1_enc2)\n",
    "m1_enc4 = Conv2D(8, (3, 3), activation='relu', padding='same')(m1_enc3)\n",
    "m1_enc5 = MaxPooling2D((2, 2), padding='same')(m1_enc4)\n",
    "m1_enc6 = Flatten()(m1_enc5)\n",
    "m1_enc7 = Dense(49, activation='relu')(m1_enc6)\n",
    "m1_encoder = Dense(9, activation='relu')(m1_enc7)"
   ]
  },
  {
   "cell_type": "markdown",
   "metadata": {},
   "source": [
    "**Discussion**\n",
    "1. Since the project is working on images, we may use convolutional neural networks in the autoencoder.\n",
    "2. A multi-layer encoding stage is used.  \n",
    "3. First we use *Reshape* to fit *Conv2D* input dimensions. Then, *Conv2D* with 8 filters of size 3 by 3 is used with a RuLU *activation* function, *padding* as *same* to maintain the shape of the input and the output.\n",
    "4. *MaxPooling2D* is used to pool the information.\n",
    "5. The *Conv2D* and the *MaxPooling2D* repeat one more time.\n",
    "6. The *Flatten* layer is used to prepare for the *Dense* layer\n",
    "7. The first Dense layer is 49 units.\n",
    "8. The targeted encoder layer is of 9 units.\n",
    "9. The overall reduction in size is 1-9/784 = 98.85%"
   ]
  },
  {
   "cell_type": "markdown",
   "metadata": {},
   "source": [
    "**c. Use *keras.layers* to create a decoding stage that has at least two layers and restores the data to its original size. You will need to choose activation functions.**"
   ]
  },
  {
   "cell_type": "code",
   "execution_count": 15,
   "metadata": {},
   "outputs": [],
   "source": [
    "# create the decoding stage\n",
    "m1_dec1 = Dense(49, activation='relu')(m1_encoder)\n",
    "m1_dec2 = Dense(392, activation='relu')(m1_dec1)\n",
    "m1_dec3 = Reshape((7, 7, 8))(m1_dec2)\n",
    "m1_dec4 = Conv2D(8, (3, 3), activation='relu', padding='same')(m1_dec3)\n",
    "m1_dec5 = UpSampling2D((2, 2))(m1_dec4)\n",
    "m1_dec6 = Conv2D(8, (3, 3), activation='relu', padding='same')(m1_dec5)\n",
    "m1_dec7 = UpSampling2D((2, 2))(m1_dec6)\n",
    "m1_dec8 = Conv2D(1, (3, 3), activation='sigmoid', padding='same')(m1_dec7)\n",
    "m1_decoder = Reshape((784,))(m1_dec8)"
   ]
  },
  {
   "cell_type": "markdown",
   "metadata": {},
   "source": [
    "**Discussion**\n",
    "1. A multi-layer decoding stage is used. The layers are in the reverse of those in encoding stage. We use *UpSampling2D* to restore the pooled information.\n",
    "2. A RuLU activation function is used except the last decoder layer.\n",
    "3. The *sigmoid* activation function is used because the input values to the network are only between 0 and 1."
   ]
  },
  {
   "cell_type": "markdown",
   "metadata": {},
   "source": [
    "**d. Compile the complete autoencoder network. You will need to choose a loss function and an optimizer. Train the autoencoder using the image data.**"
   ]
  },
  {
   "cell_type": "code",
   "execution_count": 16,
   "metadata": {},
   "outputs": [
    {
     "name": "stdout",
     "output_type": "stream",
     "text": [
      "Model: \"functional_1\"\n",
      "_________________________________________________________________\n",
      "Layer (type)                 Output Shape              Param #   \n",
      "=================================================================\n",
      "input_1 (InputLayer)         [(None, 784)]             0         \n",
      "_________________________________________________________________\n",
      "reshape (Reshape)            (None, 28, 28, 1)         0         \n",
      "_________________________________________________________________\n",
      "conv2d (Conv2D)              (None, 28, 28, 8)         80        \n",
      "_________________________________________________________________\n",
      "max_pooling2d (MaxPooling2D) (None, 14, 14, 8)         0         \n",
      "_________________________________________________________________\n",
      "conv2d_1 (Conv2D)            (None, 14, 14, 8)         584       \n",
      "_________________________________________________________________\n",
      "max_pooling2d_1 (MaxPooling2 (None, 7, 7, 8)           0         \n",
      "_________________________________________________________________\n",
      "flatten (Flatten)            (None, 392)               0         \n",
      "_________________________________________________________________\n",
      "dense (Dense)                (None, 49)                19257     \n",
      "_________________________________________________________________\n",
      "dense_1 (Dense)              (None, 9)                 450       \n",
      "_________________________________________________________________\n",
      "dense_2 (Dense)              (None, 49)                490       \n",
      "_________________________________________________________________\n",
      "dense_3 (Dense)              (None, 392)               19600     \n",
      "_________________________________________________________________\n",
      "reshape_1 (Reshape)          (None, 7, 7, 8)           0         \n",
      "_________________________________________________________________\n",
      "conv2d_2 (Conv2D)            (None, 7, 7, 8)           584       \n",
      "_________________________________________________________________\n",
      "up_sampling2d (UpSampling2D) (None, 14, 14, 8)         0         \n",
      "_________________________________________________________________\n",
      "conv2d_3 (Conv2D)            (None, 14, 14, 8)         584       \n",
      "_________________________________________________________________\n",
      "up_sampling2d_1 (UpSampling2 (None, 28, 28, 8)         0         \n",
      "_________________________________________________________________\n",
      "conv2d_4 (Conv2D)            (None, 28, 28, 1)         73        \n",
      "_________________________________________________________________\n",
      "reshape_2 (Reshape)          (None, 784)               0         \n",
      "=================================================================\n",
      "Total params: 41,702\n",
      "Trainable params: 41,702\n",
      "Non-trainable params: 0\n",
      "_________________________________________________________________\n"
     ]
    }
   ],
   "source": [
    "# construct the autoencoder model by passing the first and last layers\n",
    "autoencoder_1 = Model(input_layer, m1_decoder)\n",
    "\n",
    "# print the summary\n",
    "autoencoder_1.summary()"
   ]
  },
  {
   "cell_type": "code",
   "execution_count": 17,
   "metadata": {},
   "outputs": [
    {
     "name": "stdout",
     "output_type": "stream",
     "text": [
      "Epoch 1/50\n",
      "313/313 [==============================] - 4s 13ms/step - loss: 0.2707\n",
      "Epoch 2/50\n",
      "313/313 [==============================] - 5s 17ms/step - loss: 0.1623\n",
      "Epoch 3/50\n",
      "313/313 [==============================] - 6s 18ms/step - loss: 0.1338\n",
      "Epoch 4/50\n",
      "313/313 [==============================] - 5s 18ms/step - loss: 0.1231\n",
      "Epoch 5/50\n",
      "313/313 [==============================] - 6s 19ms/step - loss: 0.1173\n",
      "Epoch 6/50\n",
      "313/313 [==============================] - 7s 22ms/step - loss: 0.1133\n",
      "Epoch 7/50\n",
      "313/313 [==============================] - 6s 19ms/step - loss: 0.1104\n",
      "Epoch 8/50\n",
      "313/313 [==============================] - 6s 18ms/step - loss: 0.1082\n",
      "Epoch 9/50\n",
      "313/313 [==============================] - 6s 19ms/step - loss: 0.1064\n",
      "Epoch 10/50\n",
      "313/313 [==============================] - 6s 18ms/step - loss: 0.1050\n",
      "Epoch 11/50\n",
      "313/313 [==============================] - 6s 18ms/step - loss: 0.1039\n",
      "Epoch 12/50\n",
      "313/313 [==============================] - 6s 19ms/step - loss: 0.1028\n",
      "Epoch 13/50\n",
      "313/313 [==============================] - 6s 19ms/step - loss: 0.1019\n",
      "Epoch 14/50\n",
      "313/313 [==============================] - 5s 17ms/step - loss: 0.1011\n",
      "Epoch 15/50\n",
      "313/313 [==============================] - 5s 17ms/step - loss: 0.1004\n",
      "Epoch 16/50\n",
      "313/313 [==============================] - 5s 17ms/step - loss: 0.1000\n",
      "Epoch 17/50\n",
      "313/313 [==============================] - 6s 18ms/step - loss: 0.0992\n",
      "Epoch 18/50\n",
      "313/313 [==============================] - 6s 18ms/step - loss: 0.0986\n",
      "Epoch 19/50\n",
      "313/313 [==============================] - 5s 17ms/step - loss: 0.0981\n",
      "Epoch 20/50\n",
      "313/313 [==============================] - 5s 17ms/step - loss: 0.0976\n",
      "Epoch 21/50\n",
      "313/313 [==============================] - 5s 17ms/step - loss: 0.0971\n",
      "Epoch 22/50\n",
      "313/313 [==============================] - 6s 18ms/step - loss: 0.0967\n",
      "Epoch 23/50\n",
      "313/313 [==============================] - 6s 18ms/step - loss: 0.0963\n",
      "Epoch 24/50\n",
      "313/313 [==============================] - 6s 19ms/step - loss: 0.0961\n",
      "Epoch 25/50\n",
      "313/313 [==============================] - 6s 19ms/step - loss: 0.0956\n",
      "Epoch 26/50\n",
      "313/313 [==============================] - 5s 18ms/step - loss: 0.0954\n",
      "Epoch 27/50\n",
      "313/313 [==============================] - 5s 18ms/step - loss: 0.0952\n",
      "Epoch 28/50\n",
      "313/313 [==============================] - 6s 18ms/step - loss: 0.0948\n",
      "Epoch 29/50\n",
      "313/313 [==============================] - 6s 18ms/step - loss: 0.0947\n",
      "Epoch 30/50\n",
      "313/313 [==============================] - 5s 17ms/step - loss: 0.0942\n",
      "Epoch 31/50\n",
      "313/313 [==============================] - 6s 18ms/step - loss: 0.0941\n",
      "Epoch 32/50\n",
      "313/313 [==============================] - 5s 18ms/step - loss: 0.0938\n",
      "Epoch 33/50\n",
      "313/313 [==============================] - 6s 18ms/step - loss: 0.0936\n",
      "Epoch 34/50\n",
      "313/313 [==============================] - 5s 17ms/step - loss: 0.0936\n",
      "Epoch 35/50\n",
      "313/313 [==============================] - 6s 18ms/step - loss: 0.0933\n",
      "Epoch 36/50\n",
      "313/313 [==============================] - 5s 17ms/step - loss: 0.0930\n",
      "Epoch 37/50\n",
      "313/313 [==============================] - 6s 18ms/step - loss: 0.0930\n",
      "Epoch 38/50\n",
      "313/313 [==============================] - 6s 18ms/step - loss: 0.0929\n",
      "Epoch 39/50\n",
      "313/313 [==============================] - 6s 18ms/step - loss: 0.0926\n",
      "Epoch 40/50\n",
      "313/313 [==============================] - 6s 18ms/step - loss: 0.0923\n",
      "Epoch 41/50\n",
      "313/313 [==============================] - 6s 18ms/step - loss: 0.0922\n",
      "Epoch 42/50\n",
      "313/313 [==============================] - 6s 18ms/step - loss: 0.0921\n",
      "Epoch 43/50\n",
      "313/313 [==============================] - 6s 18ms/step - loss: 0.0918\n",
      "Epoch 44/50\n",
      "313/313 [==============================] - 6s 18ms/step - loss: 0.0918\n",
      "Epoch 45/50\n",
      "313/313 [==============================] - 6s 19ms/step - loss: 0.0916\n",
      "Epoch 46/50\n",
      "313/313 [==============================] - 6s 21ms/step - loss: 0.0915\n",
      "Epoch 47/50\n",
      "313/313 [==============================] - 6s 20ms/step - loss: 0.0915\n",
      "Epoch 48/50\n",
      "313/313 [==============================] - 7s 21ms/step - loss: 0.0914\n",
      "Epoch 49/50\n",
      "313/313 [==============================] - 7s 22ms/step - loss: 0.0911\n",
      "Epoch 50/50\n",
      "313/313 [==============================] - 7s 21ms/step - loss: 0.0910\n"
     ]
    },
    {
     "data": {
      "text/plain": [
       "<tensorflow.python.keras.callbacks.History at 0x205d79f5a90>"
      ]
     },
     "execution_count": 17,
     "metadata": {},
     "output_type": "execute_result"
    }
   ],
   "source": [
    "# compile the autoencoder model\n",
    "autoencoder_1.compile(optimizer='adam', loss='binary_crossentropy')\n",
    "\n",
    "# train the autoencoder model\n",
    "autoencoder_1.fit(digits, digits, epochs=50, verbose=1)"
   ]
  },
  {
   "cell_type": "markdown",
   "metadata": {},
   "source": [
    "**Discussion**\n",
    "1. The *binary_crossentropy* is used as the loss function.\n",
    "2. The *adam* is used as the optimizer.\n",
    "3. The images are passed as the input and also as the desired output. "
   ]
  },
  {
   "cell_type": "markdown",
   "metadata": {},
   "source": [
    "**e. Compile an encoder network from your trained input layer and encoding stage.**"
   ]
  },
  {
   "cell_type": "code",
   "execution_count": 18,
   "metadata": {},
   "outputs": [],
   "source": [
    "# construct the encoder using input layer and encoding layer\n",
    "encoder_1 = Model(input_layer, m1_encoder)"
   ]
  },
  {
   "cell_type": "markdown",
   "metadata": {},
   "source": [
    "## 3. Conclusions"
   ]
  },
  {
   "cell_type": "markdown",
   "metadata": {},
   "source": [
    "**a. Use *matplotlib.plot.imshow* and *matplotlib.plot.subplot* and your trained models to give a plot of the first five original images along the top row, the encoded versions of those same images along the second row, and the decoded versions along the bottom row.**"
   ]
  },
  {
   "cell_type": "code",
   "execution_count": 19,
   "metadata": {},
   "outputs": [
    {
     "data": {
      "image/png": "[encoded data removed]",
      "text/plain": [
       "<Figure size 1000x700 with 15 Axes>"
      ]
     },
     "metadata": {},
     "output_type": "display_data"
    }
   ],
   "source": [
    "# obtain the original of the first 5 images\n",
    "original = digits[:5]\n",
    "\n",
    "# reshape the original images for visualization\n",
    "original_1_vis = original.reshape(-1, 28, 28)\n",
    "\n",
    "# obtain the encoder output of the first 5 images\n",
    "encoder_1_output = encoder_1.predict(original)\n",
    "\n",
    "# reshape the encoder output for visualization\n",
    "enc_1_output_vis = encoder_1_output.reshape(-1, 3, 3) * 255\n",
    "\n",
    "# obtain the decoder output of the first 5 images\n",
    "decoder_1_output = autoencoder_1.predict(original)\n",
    "\n",
    "# reshape the decoder output for visualization\n",
    "dec_1_output_vis = decoder_1_output.reshape(-1, 28, 28) * 255\n",
    "\n",
    "# Plot the original image, the encoder output, and the decoder output:\n",
    "plt.figure(figsize=(10, 7))\n",
    "\n",
    "for i in range(5):\n",
    "    # Plot original images\n",
    "    plt.subplot(3, 5, i + 1)\n",
    "    plt.imshow(original_1_vis[i], cmap='gray')\n",
    "    plt.axis('off')\n",
    "    # Plot encoder output\n",
    "    plt.subplot(3, 5, i + 6)\n",
    "    plt.imshow(enc_1_output_vis[i], cmap='gray')\n",
    "    plt.axis('off')\n",
    "    # Plot decoder output\n",
    "    plt.subplot(3, 5, i + 11)\n",
    "    plt.imshow(dec_1_output_vis[i], cmap='gray')\n",
    "    plt.axis('off')"
   ]
  },
  {
   "cell_type": "markdown",
   "metadata": {},
   "source": [
    "**Discussion**\n",
    "1. The decoded images cannot represent the original images satisfactorily.\n",
    "2. The third and fourth are bad with the strokes spread very wide."
   ]
  },
  {
   "cell_type": "markdown",
   "metadata": {},
   "source": [
    "**Return to question 2 and adjust the hyperparameters of your model until you are able to produce decoded images that represent the original images, with an encoding that uses as little data as possible; make a record of the adjustments you try in markdown.**"
   ]
  },
  {
   "cell_type": "markdown",
   "metadata": {},
   "source": [
    "## Model 2"
   ]
  },
  {
   "cell_type": "markdown",
   "metadata": {},
   "source": [
    "**Discussion**\n",
    "1. The number of filters is changed to 16 for the *Conv2D* layers. The number of neurons in the last *Dense* layer is updated accordingly."
   ]
  },
  {
   "cell_type": "code",
   "execution_count": 20,
   "metadata": {},
   "outputs": [
    {
     "name": "stdout",
     "output_type": "stream",
     "text": [
      "Model: \"functional_5\"\n",
      "_________________________________________________________________\n",
      "Layer (type)                 Output Shape              Param #   \n",
      "=================================================================\n",
      "input_1 (InputLayer)         [(None, 784)]             0         \n",
      "_________________________________________________________________\n",
      "reshape_3 (Reshape)          (None, 28, 28, 1)         0         \n",
      "_________________________________________________________________\n",
      "conv2d_5 (Conv2D)            (None, 28, 28, 16)        160       \n",
      "_________________________________________________________________\n",
      "max_pooling2d_2 (MaxPooling2 (None, 14, 14, 16)        0         \n",
      "_________________________________________________________________\n",
      "conv2d_6 (Conv2D)            (None, 14, 14, 16)        2320      \n",
      "_________________________________________________________________\n",
      "max_pooling2d_3 (MaxPooling2 (None, 7, 7, 16)          0         \n",
      "_________________________________________________________________\n",
      "flatten_1 (Flatten)          (None, 784)               0         \n",
      "_________________________________________________________________\n",
      "dense_4 (Dense)              (None, 49)                38465     \n",
      "_________________________________________________________________\n",
      "dense_5 (Dense)              (None, 9)                 450       \n",
      "_________________________________________________________________\n",
      "dense_6 (Dense)              (None, 49)                490       \n",
      "_________________________________________________________________\n",
      "dense_7 (Dense)              (None, 784)               39200     \n",
      "_________________________________________________________________\n",
      "reshape_4 (Reshape)          (None, 7, 7, 16)          0         \n",
      "_________________________________________________________________\n",
      "conv2d_7 (Conv2D)            (None, 7, 7, 16)          2320      \n",
      "_________________________________________________________________\n",
      "up_sampling2d_2 (UpSampling2 (None, 14, 14, 16)        0         \n",
      "_________________________________________________________________\n",
      "conv2d_8 (Conv2D)            (None, 14, 14, 16)        2320      \n",
      "_________________________________________________________________\n",
      "up_sampling2d_3 (UpSampling2 (None, 28, 28, 16)        0         \n",
      "_________________________________________________________________\n",
      "conv2d_9 (Conv2D)            (None, 28, 28, 1)         145       \n",
      "_________________________________________________________________\n",
      "reshape_5 (Reshape)          (None, 784)               0         \n",
      "=================================================================\n",
      "Total params: 85,870\n",
      "Trainable params: 85,870\n",
      "Non-trainable params: 0\n",
      "_________________________________________________________________\n"
     ]
    }
   ],
   "source": [
    "# create the encoding stage\n",
    "m2_enc1 = Reshape((28, 28, 1))(input_layer)\n",
    "m2_enc2 = Conv2D(16, (3, 3), activation='relu', padding='same')(m2_enc1)\n",
    "m2_enc3 = MaxPooling2D((2, 2), padding='same')(m2_enc2)\n",
    "m2_enc4 = Conv2D(16, (3, 3), activation='relu', padding='same')(m2_enc3)\n",
    "m2_enc5 = MaxPooling2D((2, 2), padding='same')(m2_enc4)\n",
    "m2_enc6 = Flatten()(m2_enc5)\n",
    "m2_enc7 = Dense(49, activation='relu')(m2_enc6)\n",
    "m2_encoder = Dense(9, activation='relu')(m2_enc7)\n",
    "\n",
    "# create the decoding stage\n",
    "m2_dec1 = Dense(49, activation='relu')(m2_encoder)\n",
    "m2_dec2 = Dense(784, activation='relu')(m2_dec1)\n",
    "m2_dec3 = Reshape((7, 7, 16))(m2_dec2)\n",
    "m2_dec4 = Conv2D(16, (3, 3), activation='relu', padding='same')(m2_dec3)\n",
    "m2_dec5 = UpSampling2D((2, 2))(m2_dec4)\n",
    "m2_dec6 = Conv2D(16, (3, 3), activation='relu', padding='same')(m2_dec5)\n",
    "m2_dec7 = UpSampling2D((2, 2))(m2_dec6)\n",
    "m2_dec8 = Conv2D(1, (3, 3), activation='sigmoid', padding='same')(m2_dec7)\n",
    "m2_decoder = Reshape((784,))(m2_dec8)\n",
    "\n",
    "# construct the autoencoder model\n",
    "autoencoder_2 = Model(input_layer, m2_decoder)\n",
    "\n",
    "# print the summary\n",
    "autoencoder_2.summary()"
   ]
  },
  {
   "cell_type": "code",
   "execution_count": 21,
   "metadata": {},
   "outputs": [
    {
     "name": "stdout",
     "output_type": "stream",
     "text": [
      "Epoch 1/50\n",
      "313/313 [==============================] - 9s 29ms/step - loss: 0.2393\n",
      "Epoch 2/50\n",
      "313/313 [==============================] - 9s 28ms/step - loss: 0.1427\n",
      "Epoch 3/50\n",
      "313/313 [==============================] - 9s 28ms/step - loss: 0.1242\n",
      "Epoch 4/50\n",
      "313/313 [==============================] - 9s 28ms/step - loss: 0.1166\n",
      "Epoch 5/50\n",
      "313/313 [==============================] - 9s 27ms/step - loss: 0.1115\n",
      "Epoch 6/50\n",
      "313/313 [==============================] - 9s 28ms/step - loss: 0.1079\n",
      "Epoch 7/50\n",
      "313/313 [==============================] - 12s 38ms/step - loss: 0.1055\n",
      "Epoch 8/50\n",
      "313/313 [==============================] - 10s 33ms/step - loss: 0.1033\n",
      "Epoch 9/50\n",
      "313/313 [==============================] - 10s 33ms/step - loss: 0.1018\n",
      "Epoch 10/50\n",
      "313/313 [==============================] - 9s 30ms/step - loss: 0.1005\n",
      "Epoch 11/50\n",
      "313/313 [==============================] - 10s 33ms/step - loss: 0.0994\n",
      "Epoch 12/50\n",
      "313/313 [==============================] - 9s 29ms/step - loss: 0.0983\n",
      "Epoch 13/50\n",
      "313/313 [==============================] - 10s 31ms/step - loss: 0.0974\n",
      "Epoch 14/50\n",
      "313/313 [==============================] - 10s 32ms/step - loss: 0.0965\n",
      "Epoch 15/50\n",
      "313/313 [==============================] - 9s 30ms/step - loss: 0.0957\n",
      "Epoch 16/50\n",
      "313/313 [==============================] - 9s 29ms/step - loss: 0.0951\n",
      "Epoch 17/50\n",
      "313/313 [==============================] - 8s 26ms/step - loss: 0.0943\n",
      "Epoch 18/50\n",
      "313/313 [==============================] - 8s 26ms/step - loss: 0.0937\n",
      "Epoch 19/50\n",
      "313/313 [==============================] - 8s 26ms/step - loss: 0.0926\n",
      "Epoch 20/50\n",
      "313/313 [==============================] - 8s 27ms/step - loss: 0.0920\n",
      "Epoch 21/50\n",
      "313/313 [==============================] - 8s 25ms/step - loss: 0.0911\n",
      "Epoch 22/50\n",
      "313/313 [==============================] - 8s 25ms/step - loss: 0.0907\n",
      "Epoch 23/50\n",
      "313/313 [==============================] - 8s 24ms/step - loss: 0.0902\n",
      "Epoch 24/50\n",
      "313/313 [==============================] - 8s 24ms/step - loss: 0.0896\n",
      "Epoch 25/50\n",
      "313/313 [==============================] - 8s 24ms/step - loss: 0.0891\n",
      "Epoch 26/50\n",
      "313/313 [==============================] - 8s 25ms/step - loss: 0.0887\n",
      "Epoch 27/50\n",
      "313/313 [==============================] - 8s 25ms/step - loss: 0.0882\n",
      "Epoch 28/50\n",
      "313/313 [==============================] - 7s 24ms/step - loss: 0.0880\n",
      "Epoch 29/50\n",
      "313/313 [==============================] - 8s 24ms/step - loss: 0.0876\n",
      "Epoch 30/50\n",
      "313/313 [==============================] - 8s 25ms/step - loss: 0.0872\n",
      "Epoch 31/50\n",
      "313/313 [==============================] - 8s 24ms/step - loss: 0.0869\n",
      "Epoch 32/50\n",
      "313/313 [==============================] - 8s 24ms/step - loss: 0.0869\n",
      "Epoch 33/50\n",
      "313/313 [==============================] - 7s 24ms/step - loss: 0.0865\n",
      "Epoch 34/50\n",
      "313/313 [==============================] - 8s 24ms/step - loss: 0.0860\n",
      "Epoch 35/50\n",
      "313/313 [==============================] - 8s 24ms/step - loss: 0.0861\n",
      "Epoch 36/50\n",
      "313/313 [==============================] - 8s 24ms/step - loss: 0.0858\n",
      "Epoch 37/50\n",
      "313/313 [==============================] - 8s 24ms/step - loss: 0.0857\n",
      "Epoch 38/50\n",
      "313/313 [==============================] - 7s 24ms/step - loss: 0.0855\n",
      "Epoch 39/50\n",
      "313/313 [==============================] - 8s 24ms/step - loss: 0.0851\n",
      "Epoch 40/50\n",
      "313/313 [==============================] - 8s 27ms/step - loss: 0.0850\n",
      "Epoch 41/50\n",
      "313/313 [==============================] - 8s 24ms/step - loss: 0.0849\n",
      "Epoch 42/50\n",
      "313/313 [==============================] - 8s 24ms/step - loss: 0.0847\n",
      "Epoch 43/50\n",
      "313/313 [==============================] - 8s 24ms/step - loss: 0.0845\n",
      "Epoch 44/50\n",
      "313/313 [==============================] - 8s 24ms/step - loss: 0.0844\n",
      "Epoch 45/50\n",
      "313/313 [==============================] - 8s 25ms/step - loss: 0.0841\n",
      "Epoch 46/50\n",
      "313/313 [==============================] - 8s 24ms/step - loss: 0.0841\n",
      "Epoch 47/50\n",
      "313/313 [==============================] - 8s 24ms/step - loss: 0.0841\n",
      "Epoch 48/50\n",
      "313/313 [==============================] - 7s 24ms/step - loss: 0.0838\n",
      "Epoch 49/50\n",
      "313/313 [==============================] - 8s 25ms/step - loss: 0.0836\n",
      "Epoch 50/50\n",
      "313/313 [==============================] - 7s 24ms/step - loss: 0.0835\n"
     ]
    },
    {
     "data": {
      "text/plain": [
       "<tensorflow.python.keras.callbacks.History at 0x205da5d48e0>"
      ]
     },
     "execution_count": 21,
     "metadata": {},
     "output_type": "execute_result"
    }
   ],
   "source": [
    "# compile the autoencoder model\n",
    "autoencoder_2.compile(optimizer='adam', loss='binary_crossentropy')\n",
    "\n",
    "# train the autoencoder model\n",
    "autoencoder_2.fit(digits, digits, epochs=50, batch_size=32, shuffle=True, verbose=1)"
   ]
  },
  {
   "cell_type": "code",
   "execution_count": 22,
   "metadata": {},
   "outputs": [],
   "source": [
    "# construct the encoder using input layer and encoding layer\n",
    "encoder_2 = Model(input_layer, m2_encoder)"
   ]
  },
  {
   "cell_type": "code",
   "execution_count": 23,
   "metadata": {},
   "outputs": [
    {
     "data": {
      "image/png": "[encoded data removed]",
      "text/plain": [
       "<Figure size 1000x700 with 15 Axes>"
      ]
     },
     "metadata": {},
     "output_type": "display_data"
    }
   ],
   "source": [
    "# obtain the original of the first 5 images\n",
    "original = digits[:5]\n",
    "\n",
    "# reshape the original images for visualization\n",
    "original_vis = original.reshape(-1, 28, 28)\n",
    "\n",
    "# obtain the encoder output of the first 5 images\n",
    "encoder_2_output = encoder_2.predict(original)\n",
    "\n",
    "# reshape the encoder output for visualization\n",
    "enc_2_output_vis = encoder_2_output.reshape(-1, 3, 3) * 255\n",
    "\n",
    "# obtain the decoder output of the first 5 images\n",
    "decoder_2_output = autoencoder_2.predict(original)\n",
    "\n",
    "# reshape the decoder output for visualization\n",
    "dec_2_output_vis = decoder_2_output.reshape(-1, 28, 28) * 255\n",
    "\n",
    "# Plot the original image, the encoder output, and the decoder output:\n",
    "plt.figure(figsize=(10, 7))\n",
    "\n",
    "for i in range(5):\n",
    "    # Plot original images\n",
    "    plt.subplot(3, 5, i + 1)\n",
    "    plt.imshow(original_vis[i], cmap='gray')\n",
    "    plt.axis('off')\n",
    "    # Plot encoder output\n",
    "    plt.subplot(3, 5, i + 6)\n",
    "    plt.imshow(enc_2_output_vis[i], cmap='gray')\n",
    "    plt.axis('off')\n",
    "    # Plot decoder output\n",
    "    plt.subplot(3, 5, i + 11)\n",
    "    plt.imshow(dec_2_output_vis[i], cmap='gray')\n",
    "    plt.axis('off')"
   ]
  },
  {
   "cell_type": "markdown",
   "metadata": {},
   "source": [
    "**Discussion**\n",
    "1. The decoded images cannot represent the original images satsifactorily.\n",
    "2. Both third and fourth images are slightly improved but the strokes are not sharp."
   ]
  },
  {
   "cell_type": "markdown",
   "metadata": {},
   "source": [
    "## Model 3"
   ]
  },
  {
   "cell_type": "markdown",
   "metadata": {},
   "source": [
    "**Discussion**\n",
    "1. The number of filters is changed to 80 and 64 for the *Conv2D* layers. The number of neurons in the last *Dense* layer is updated accordingly.\n",
    "2. The number of neurons in the *Dense* layers before and after the last encoding stage is also changed. "
   ]
  },
  {
   "cell_type": "code",
   "execution_count": 24,
   "metadata": {},
   "outputs": [
    {
     "name": "stdout",
     "output_type": "stream",
     "text": [
      "Model: \"functional_9\"\n",
      "_________________________________________________________________\n",
      "Layer (type)                 Output Shape              Param #   \n",
      "=================================================================\n",
      "input_1 (InputLayer)         [(None, 784)]             0         \n",
      "_________________________________________________________________\n",
      "reshape_6 (Reshape)          (None, 28, 28, 1)         0         \n",
      "_________________________________________________________________\n",
      "conv2d_10 (Conv2D)           (None, 28, 28, 80)        800       \n",
      "_________________________________________________________________\n",
      "max_pooling2d_4 (MaxPooling2 (None, 14, 14, 80)        0         \n",
      "_________________________________________________________________\n",
      "conv2d_11 (Conv2D)           (None, 14, 14, 64)        46144     \n",
      "_________________________________________________________________\n",
      "max_pooling2d_5 (MaxPooling2 (None, 7, 7, 64)          0         \n",
      "_________________________________________________________________\n",
      "flatten_2 (Flatten)          (None, 3136)              0         \n",
      "_________________________________________________________________\n",
      "dense_8 (Dense)              (None, 81)                254097    \n",
      "_________________________________________________________________\n",
      "dense_9 (Dense)              (None, 9)                 738       \n",
      "_________________________________________________________________\n",
      "dense_10 (Dense)             (None, 81)                810       \n",
      "_________________________________________________________________\n",
      "dense_11 (Dense)             (None, 3136)              257152    \n",
      "_________________________________________________________________\n",
      "reshape_7 (Reshape)          (None, 7, 7, 64)          0         \n",
      "_________________________________________________________________\n",
      "conv2d_12 (Conv2D)           (None, 7, 7, 64)          36928     \n",
      "_________________________________________________________________\n",
      "up_sampling2d_4 (UpSampling2 (None, 14, 14, 64)        0         \n",
      "_________________________________________________________________\n",
      "conv2d_13 (Conv2D)           (None, 14, 14, 80)        46160     \n",
      "_________________________________________________________________\n",
      "up_sampling2d_5 (UpSampling2 (None, 28, 28, 80)        0         \n",
      "_________________________________________________________________\n",
      "conv2d_14 (Conv2D)           (None, 28, 28, 1)         721       \n",
      "_________________________________________________________________\n",
      "reshape_8 (Reshape)          (None, 784)               0         \n",
      "=================================================================\n",
      "Total params: 643,550\n",
      "Trainable params: 643,550\n",
      "Non-trainable params: 0\n",
      "_________________________________________________________________\n"
     ]
    }
   ],
   "source": [
    "# create the encoding stage\n",
    "m3_enc1 = Reshape((28, 28, 1))(input_layer)\n",
    "m3_enc2 = Conv2D(80, (3, 3), activation='relu', padding='same')(m3_enc1)\n",
    "m3_enc3 = MaxPooling2D((2, 2), padding='same')(m3_enc2)\n",
    "m3_enc4 = Conv2D(64, (3, 3), activation='relu', padding='same')(m3_enc3)\n",
    "m3_enc5 = MaxPooling2D((2, 2), padding='same')(m3_enc4)\n",
    "m3_enc6 = Flatten()(m3_enc5)\n",
    "m3_enc7 = Dense(81, activation='relu')(m3_enc6)\n",
    "m3_encoder = Dense(9, activation='relu')(m3_enc7)\n",
    "\n",
    "# create the decoding stage\n",
    "m3_dec1 = Dense(81, activation='relu')(m3_encoder)\n",
    "m3_dec2 = Dense(3136, activation='relu')(m3_dec1)\n",
    "m3_dec3 = Reshape((7, 7, 64))(m3_dec2)\n",
    "m3_dec4 = Conv2D(64, (3, 3), activation='relu', padding='same')(m3_dec3)\n",
    "m3_dec5 = UpSampling2D((2, 2))(m3_dec4)\n",
    "m3_dec6 = Conv2D(80, (3, 3), activation='relu', padding='same')(m3_dec5)\n",
    "m3_dec7 = UpSampling2D((2, 2))(m3_dec6)\n",
    "m3_dec8 = Conv2D(1, (3, 3), activation='sigmoid', padding='same')(m3_dec7)\n",
    "m3_decoder = Reshape((784,))(m3_dec8)\n",
    "\n",
    "# construct the autoencoder model\n",
    "autoencoder_3 = Model(input_layer, m3_decoder)\n",
    "\n",
    "# print the summary\n",
    "autoencoder_3.summary()"
   ]
  },
  {
   "cell_type": "code",
   "execution_count": 25,
   "metadata": {},
   "outputs": [
    {
     "name": "stdout",
     "output_type": "stream",
     "text": [
      "Epoch 1/50\n",
      "313/313 [==============================] - 30s 95ms/step - loss: 0.2034\n",
      "Epoch 2/50\n",
      "313/313 [==============================] - 31s 99ms/step - loss: 0.1265\n",
      "Epoch 3/50\n",
      "313/313 [==============================] - 30s 94ms/step - loss: 0.1148\n",
      "Epoch 4/50\n",
      "313/313 [==============================] - 29s 93ms/step - loss: 0.1091\n",
      "Epoch 5/50\n",
      "313/313 [==============================] - 30s 96ms/step - loss: 0.1052\n",
      "Epoch 6/50\n",
      "313/313 [==============================] - 30s 95ms/step - loss: 0.1021\n",
      "Epoch 7/50\n",
      "313/313 [==============================] - 30s 96ms/step - loss: 0.0998\n",
      "Epoch 8/50\n",
      "313/313 [==============================] - 31s 100ms/step - loss: 0.0984\n",
      "Epoch 9/50\n",
      "313/313 [==============================] - 30s 96ms/step - loss: 0.0968\n",
      "Epoch 10/50\n",
      "313/313 [==============================] - 30s 95ms/step - loss: 0.0960\n",
      "Epoch 11/50\n",
      "313/313 [==============================] - 30s 97ms/step - loss: 0.0950\n",
      "Epoch 12/50\n",
      "313/313 [==============================] - 31s 100ms/step - loss: 0.0939\n",
      "Epoch 13/50\n",
      "313/313 [==============================] - 31s 99ms/step - loss: 0.0931\n",
      "Epoch 14/50\n",
      "313/313 [==============================] - 30s 96ms/step - loss: 0.0924\n",
      "Epoch 15/50\n",
      "313/313 [==============================] - 30s 95ms/step - loss: 0.0916\n",
      "Epoch 16/50\n",
      "313/313 [==============================] - 29s 94ms/step - loss: 0.0911\n",
      "Epoch 17/50\n",
      "313/313 [==============================] - 30s 95ms/step - loss: 0.0904\n",
      "Epoch 18/50\n",
      "313/313 [==============================] - 29s 94ms/step - loss: 0.0901\n",
      "Epoch 19/50\n",
      "313/313 [==============================] - 30s 95ms/step - loss: 0.0896\n",
      "Epoch 20/50\n",
      "313/313 [==============================] - 30s 97ms/step - loss: 0.0889\n",
      "Epoch 21/50\n",
      "313/313 [==============================] - 30s 95ms/step - loss: 0.0885\n",
      "Epoch 22/50\n",
      "313/313 [==============================] - 29s 94ms/step - loss: 0.0879\n",
      "Epoch 23/50\n",
      "313/313 [==============================] - 30s 95ms/step - loss: 0.0877\n",
      "Epoch 24/50\n",
      "313/313 [==============================] - 29s 94ms/step - loss: 0.0873\n",
      "Epoch 25/50\n",
      "313/313 [==============================] - 30s 94ms/step - loss: 0.0867\n",
      "Epoch 26/50\n",
      "313/313 [==============================] - 30s 95ms/step - loss: 0.0865\n",
      "Epoch 27/50\n",
      "313/313 [==============================] - 31s 98ms/step - loss: 0.0860\n",
      "Epoch 28/50\n",
      "313/313 [==============================] - 30s 95ms/step - loss: 0.0858\n",
      "Epoch 29/50\n",
      "313/313 [==============================] - 30s 95ms/step - loss: 0.0854\n",
      "Epoch 30/50\n",
      "313/313 [==============================] - 30s 95ms/step - loss: 0.0851\n",
      "Epoch 31/50\n",
      "313/313 [==============================] - 30s 94ms/step - loss: 0.0847\n",
      "Epoch 32/50\n",
      "313/313 [==============================] - 29s 94ms/step - loss: 0.0844\n",
      "Epoch 33/50\n",
      "313/313 [==============================] - 30s 95ms/step - loss: 0.0843\n",
      "Epoch 34/50\n",
      "313/313 [==============================] - 29s 94ms/step - loss: 0.0838\n",
      "Epoch 35/50\n",
      "313/313 [==============================] - 30s 97ms/step - loss: 0.0837\n",
      "Epoch 36/50\n",
      "313/313 [==============================] - 30s 97ms/step - loss: 0.0836\n",
      "Epoch 37/50\n",
      "313/313 [==============================] - 30s 94ms/step - loss: 0.0833\n",
      "Epoch 38/50\n",
      "313/313 [==============================] - 32s 103ms/step - loss: 0.0828\n",
      "Epoch 39/50\n",
      "313/313 [==============================] - 38s 120ms/step - loss: 0.0828\n",
      "Epoch 40/50\n",
      "313/313 [==============================] - 38s 121ms/step - loss: 0.0824\n",
      "Epoch 41/50\n",
      "313/313 [==============================] - 39s 125ms/step - loss: 0.0825\n",
      "Epoch 42/50\n",
      "313/313 [==============================] - 35s 111ms/step - loss: 0.0821\n",
      "Epoch 43/50\n",
      "313/313 [==============================] - 35s 112ms/step - loss: 0.0819\n",
      "Epoch 44/50\n",
      "313/313 [==============================] - 37s 119ms/step - loss: 0.0815\n",
      "Epoch 45/50\n",
      "313/313 [==============================] - 36s 115ms/step - loss: 0.0814\n",
      "Epoch 46/50\n",
      "313/313 [==============================] - 36s 114ms/step - loss: 0.0813\n",
      "Epoch 47/50\n",
      "313/313 [==============================] - 39s 124ms/step - loss: 0.0812\n",
      "Epoch 48/50\n",
      "313/313 [==============================] - 37s 118ms/step - loss: 0.0807\n",
      "Epoch 49/50\n",
      "313/313 [==============================] - 36s 114ms/step - loss: 0.0807\n",
      "Epoch 50/50\n",
      "313/313 [==============================] - 34s 109ms/step - loss: 0.0807\n"
     ]
    },
    {
     "data": {
      "text/plain": [
       "<tensorflow.python.keras.callbacks.History at 0x205d762bc10>"
      ]
     },
     "execution_count": 25,
     "metadata": {},
     "output_type": "execute_result"
    }
   ],
   "source": [
    "# compile the autoencoder model\n",
    "autoencoder_3.compile(optimizer='adam', loss='binary_crossentropy')\n",
    "\n",
    "# train the autoencoder model\n",
    "autoencoder_3.fit(digits, digits, epochs=50, batch_size=32, shuffle=True, verbose=1)"
   ]
  },
  {
   "cell_type": "code",
   "execution_count": 26,
   "metadata": {},
   "outputs": [],
   "source": [
    "# construct the encoder using input layer and encoding layer\n",
    "encoder_3 = Model(input_layer, m3_encoder)"
   ]
  },
  {
   "cell_type": "code",
   "execution_count": 27,
   "metadata": {},
   "outputs": [
    {
     "name": "stdout",
     "output_type": "stream",
     "text": [
      "WARNING:tensorflow:5 out of the last 5 calls to <function Model.make_predict_function.<locals>.predict_function at 0x00000205D9BF6CA0> triggered tf.function retracing. Tracing is expensive and the excessive number of tracings could be due to (1) creating @tf.function repeatedly in a loop, (2) passing tensors with different shapes, (3) passing Python objects instead of tensors. For (1), please define your @tf.function outside of the loop. For (2), @tf.function has experimental_relax_shapes=True option that relaxes argument shapes that can avoid unnecessary retracing. For (3), please refer to https://www.tensorflow.org/tutorials/customization/performance#python_or_tensor_args and https://www.tensorflow.org/api_docs/python/tf/function for  more details.\n"
     ]
    },
    {
     "name": "stdout",
     "output_type": "stream",
     "text": [
      "WARNING:tensorflow:6 out of the last 6 calls to <function Model.make_predict_function.<locals>.predict_function at 0x00000205D75A03A0> triggered tf.function retracing. Tracing is expensive and the excessive number of tracings could be due to (1) creating @tf.function repeatedly in a loop, (2) passing tensors with different shapes, (3) passing Python objects instead of tensors. For (1), please define your @tf.function outside of the loop. For (2), @tf.function has experimental_relax_shapes=True option that relaxes argument shapes that can avoid unnecessary retracing. For (3), please refer to https://www.tensorflow.org/tutorials/customization/performance#python_or_tensor_args and https://www.tensorflow.org/api_docs/python/tf/function for  more details.\n"
     ]
    },
    {
     "data": {
      "image/png": "[encoded data removed]",
      "text/plain": [
       "<Figure size 1000x700 with 15 Axes>"
      ]
     },
     "metadata": {},
     "output_type": "display_data"
    }
   ],
   "source": [
    "# obtain the original of the first 5 images\n",
    "original = digits[:5]\n",
    "\n",
    "# reshape the original images for visualization\n",
    "original_vis = original.reshape(-1, 28, 28)\n",
    "\n",
    "# obtain the encoder output of the first 5 images\n",
    "encoder_3_output = encoder_3.predict(original)\n",
    "\n",
    "# reshape the encoder output for visualization\n",
    "enc_3_output_vis = encoder_3_output.reshape(-1, 3, 3) * 255\n",
    "\n",
    "# obtain the decoder output of the first 5 images\n",
    "decoder_3_output = autoencoder_3.predict(original)\n",
    "\n",
    "# reshape the decoder output for visualization\n",
    "dec_3_output_vis = decoder_3_output.reshape(-1, 28, 28) * 255\n",
    "\n",
    "# Plot the original image, the encoder output, and the decoder output:\n",
    "plt.figure(figsize=(10, 7))\n",
    "\n",
    "for i in range(5):\n",
    "    # Plot original images\n",
    "    plt.subplot(3, 5, i + 1)\n",
    "    plt.imshow(original_vis[i], cmap='gray')\n",
    "    plt.axis('off')\n",
    "    # Plot encoder output\n",
    "    plt.subplot(3, 5, i + 6)\n",
    "    plt.imshow(enc_3_output_vis[i], cmap='gray')\n",
    "    plt.axis('off')\n",
    "    # Plot decoder output\n",
    "    plt.subplot(3, 5, i + 11)\n",
    "    plt.imshow(dec_3_output_vis[i], cmap='gray')\n",
    "    plt.axis('off')"
   ]
  },
  {
   "cell_type": "markdown",
   "metadata": {},
   "source": [
    "**Discussion**\n",
    "1. The decoded images can represent the original images satisfactorily."
   ]
  },
  {
   "cell_type": "markdown",
   "metadata": {},
   "source": [
    "**b. Use markdown to describe how well the autoencoder is working, making reference to the plots.**"
   ]
  },
  {
   "cell_type": "markdown",
   "metadata": {},
   "source": [
    "**Discussion**\n",
    "1. The autoencoder is working very nicely.\n",
    "2. The first decoded image looks almost the same as the original image.\n",
    "3. The second decoded image looks almost the same as the original image. The curve and the straight strokes are resembled very nicely.  \n",
    "4. The third decoded image looks very much like the original image. The shape of the two strokes are restored very nicely. The only problem is intersection point of the two strokes. That intersection point should be more solid.\n",
    "5. The fourth decoded image looks very much like the original image. The shape is very well maintained. The only problem is the end of the strokes is smoothened. We lost some details there.\n",
    "6. The fifth decoded image looks very much like the original image. The shape is very well maintained. The problem area is the connection point. In the original image, the circle is not complete. We again lost some details at the start and end points of the stroke.\n",
    "7. Overall, the autoencoder has nicely restored the original images. The shapes are well maintained and the strokes do not spread out. However, the common problem observed from the plots is that the details in the start and end of a stroke is usually being smoothened and lost."
   ]
  },
  {
   "cell_type": "markdown",
   "metadata": {},
   "source": [
    "**c. State the amount of data needed to store a single image, considering that a floating-point number is 4 bytes of data. Calculate how much memory will be saved as a percentage.**"
   ]
  },
  {
   "cell_type": "code",
   "execution_count": 28,
   "metadata": {},
   "outputs": [],
   "source": [
    "# define the floating point number memory size\n",
    "floating_mem_size = 4"
   ]
  },
  {
   "cell_type": "code",
   "execution_count": 29,
   "metadata": {},
   "outputs": [
    {
     "name": "stdout",
     "output_type": "stream",
     "text": [
      "Memory size of the original image: 3136 bytes\n"
     ]
    }
   ],
   "source": [
    "# define the number of original pixels\n",
    "original_pixels = digits[0].shape[0]\n",
    "# print the memory size of the original image\n",
    "print('Memory size of the original image: {} bytes'.format(original_pixels * floating_mem_size))"
   ]
  },
  {
   "cell_type": "code",
   "execution_count": 30,
   "metadata": {},
   "outputs": [
    {
     "name": "stdout",
     "output_type": "stream",
     "text": [
      "Memory size of the encoder output: 36 bytes\n"
     ]
    }
   ],
   "source": [
    "# define the number of encoder output pixels\n",
    "encoder_output_pixels = encoder_1_output[0].shape[0]\n",
    "# print the memory size of the encoder output\n",
    "print('Memory size of the encoder output: {} bytes'.format(encoder_output_pixels * floating_mem_size))"
   ]
  },
  {
   "cell_type": "code",
   "execution_count": 31,
   "metadata": {},
   "outputs": [
    {
     "name": "stdout",
     "output_type": "stream",
     "text": [
      "Memory saved: 98.85204081632652%\n"
     ]
    }
   ],
   "source": [
    "# print the memory saved as a percentage\n",
    "print('Memory saved: {}%'.format((1 - (encoder_output_pixels / original_pixels)) * 100))"
   ]
  },
  {
   "cell_type": "markdown",
   "metadata": {},
   "source": [
    "**Discussion**\n",
    "1. Each pixel is one floating-point number, 4 bytes.\n",
    "2. The original image is 28 * 28 or 784 pixels in gray scale value. To store the original image, 784 * 4 = 3136 bytes.\n",
    "3. The encoded image is 3 * 3 or 9 pixels in gray scale value. To store the encoded image, 9 * 4 = 36 bytes.\n",
    "4. Memory saved as a percentage is 98.85%."
   ]
  }
 ],
 "metadata": {
  "kernelspec": {
   "display_name": "Python38",
   "language": "python",
   "name": "python3"
  },
  "language_info": {
   "codemirror_mode": {
    "name": "ipython",
    "version": 3
   },
   "file_extension": ".py",
   "mimetype": "text/x-python",
   "name": "python",
   "nbconvert_exporter": "python",
   "pygments_lexer": "ipython3",
   "version": "3.8.17"
  }
 },
 "nbformat": 4,
 "nbformat_minor": 2
}
